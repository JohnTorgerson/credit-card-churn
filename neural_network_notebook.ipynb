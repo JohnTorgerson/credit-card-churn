{
 "cells": [
  {
   "cell_type": "code",
   "execution_count": null,
   "id": "9645900e",
   "metadata": {},
   "outputs": [],
   "source": [
    "## NN Dependencies\n",
    "from sklearn.model_selection import train_test_split\n",
    "from sklearn.preprocessing import StandardScaler\n",
    "import tensorflow as tf\n",
    "\n",
    "## Other Dependencies\n",
    "import pandas as pd\n",
    "from matplotlib import pyplot as plt"
   ]
  },
  {
   "cell_type": "markdown",
   "id": "ae77e34f",
   "metadata": {},
   "source": [
    "## Initial Data import and pre-processing for Neural Network model"
   ]
  },
  {
   "cell_type": "code",
   "execution_count": null,
   "id": "f7df0036",
   "metadata": {},
   "outputs": [],
   "source": [
    "## Import dataset csv\n",
    "\n",
    "churn_df = pd.read_csv('Resources/clean_churn_db.csv')\n",
    "attrition_df = pd.read_csv('Resources/BankChurners.csv', usecols=['Attrition_Flag'])\n",
    "churn_df"
   ]
  },
  {
   "cell_type": "code",
   "execution_count": null,
   "id": "8466e60f",
   "metadata": {},
   "outputs": [],
   "source": [
    "print(f\"The amount of Attrited Customers/Existing Customers in the dataset is 1628/8500 or {round(1627/8500 * 100,2)}%\")"
   ]
  },
  {
   "cell_type": "code",
   "execution_count": null,
   "id": "a61baff0",
   "metadata": {},
   "outputs": [],
   "source": [
    "for column in churn_df.columns:\n",
    "    print(column)"
   ]
  },
  {
   "cell_type": "code",
   "execution_count": null,
   "id": "b71db822",
   "metadata": {},
   "outputs": [],
   "source": [
    "## Define feature values X\n",
    "X = churn_df.values\n",
    "\n",
    "## Define target values y\n",
    "y_df = attrition_df.replace({'Existing Customer':0, 'Attrited Customer':1}).copy()\n",
    "y = y_df['Attrition_Flag']"
   ]
  },
  {
   "cell_type": "code",
   "execution_count": null,
   "id": "8e24025f",
   "metadata": {},
   "outputs": [],
   "source": [
    "## Split into training and testing data\n",
    "X_train, X_test, y_train, y_test = train_test_split(X, y, random_state = 7)"
   ]
  },
  {
   "cell_type": "code",
   "execution_count": null,
   "id": "b6db673f",
   "metadata": {},
   "outputs": [],
   "source": [
    "## Instance Scaler\n",
    "scaler = StandardScaler()\n",
    "\n",
    "## Fit Scaler\n",
    "X_scaler = scaler.fit(X_train)\n",
    "\n",
    "## Scale Data\n",
    "X_train_scaled = X_scaler.transform(X_train)\n",
    "X_test_scaled = X_scaler.transform(X_test)"
   ]
  },
  {
   "cell_type": "code",
   "execution_count": null,
   "id": "fe3c4571",
   "metadata": {},
   "outputs": [],
   "source": [
    "len(X_train_scaled[0])"
   ]
  },
  {
   "cell_type": "markdown",
   "id": "a5b2c819",
   "metadata": {},
   "source": [
    "## Initial Modelling Attempt\n",
    "Using all the availible features in the dataset"
   ]
  },
  {
   "cell_type": "code",
   "execution_count": null,
   "id": "7367765a",
   "metadata": {},
   "outputs": [],
   "source": [
    "## Layering, beginning with 1 hidden layer\n",
    "input_features = len(X_train[0])\n",
    "hidden_layer_1 = 25\n",
    "outputs = 1\n",
    "\n",
    "nn = tf.keras.models.Sequential(name='initial')\n",
    "\n",
    "## First Hidden Layer + Input\n",
    "nn.add(tf.keras.layers.Dense(units = hidden_layer_1, input_dim = input_features, activation = 'relu'))\n",
    "\n",
    "##Output Layer\n",
    "nn.add(tf.keras.layers.Dense(units = outputs, activation='sigmoid'))\n",
    "\n",
    "nn.summary()"
   ]
  },
  {
   "cell_type": "code",
   "execution_count": null,
   "id": "128ee463",
   "metadata": {},
   "outputs": [],
   "source": [
    "## Compile and fit\n",
    "nn.compile(loss='binary_crossentropy', optimizer='adam', metrics=['accuracy',])\n",
    "initial_model = nn.fit(X_train_scaled, y_train, validation_data = (X_test_scaled, y_test) , epochs=100)"
   ]
  },
  {
   "cell_type": "code",
   "execution_count": null,
   "id": "127f9f4f",
   "metadata": {},
   "outputs": [],
   "source": [
    "initial_loss, initial_accuracy = nn.evaluate(X_test_scaled, y_test, verbose = 2)\n",
    "print(f\"Loss:{initial_loss}, Accuracy: {initial_accuracy}\")"
   ]
  },
  {
   "cell_type": "code",
   "execution_count": null,
   "id": "3a4d3773",
   "metadata": {},
   "outputs": [],
   "source": [
    "initial_loss, initial_accuracy = nn.evaluate(X_test_scaled, y_test, verbose = 2)\n",
    "print(f\"Loss:{initial_loss}, Accuracy: {initial_accuracy}\")"
   ]
  },
  {
   "cell_type": "code",
   "execution_count": null,
   "id": "aed3c9ed",
   "metadata": {},
   "outputs": [],
   "source": [
    "## What does this 93% accuracy mean?"
   ]
  },
  {
   "cell_type": "code",
   "execution_count": null,
   "id": "ddba52cd",
   "metadata": {},
   "outputs": [],
   "source": [
    "plt.plot(initial_model.history['accuracy'])\n",
    "plt.plot(initial_model.history['val_accuracy'])\n",
    "plt.title(\"Initial Model Accuracy\")\n",
    "plt.ylabel(\"Accuracy\")\n",
    "plt.xlabel(\"Epoch\")\n",
    "plt.legend(['Training','Validation'], loc = 'center')\n",
    "plt.show()"
   ]
  },
  {
   "cell_type": "code",
   "execution_count": null,
   "id": "ecca4adb",
   "metadata": {
    "scrolled": true
   },
   "outputs": [],
   "source": [
    "plt.plot(initial_model.history['loss'])\n",
    "plt.plot(initial_model.history['val_loss'])\n",
    "plt.title(\"Initial Model Loss\")\n",
    "plt.ylabel(\"Loss\")\n",
    "plt.xlabel(\"Epoch\")\n",
    "plt.legend(['Training','Validation'], loc = 'center')\n",
    "plt.show()"
   ]
  },
  {
   "cell_type": "markdown",
   "id": "f0d8ec15",
   "metadata": {},
   "source": [
    "Model seems to be overfitted, adjustments to follow."
   ]
  },
  {
   "cell_type": "markdown",
   "id": "7ea707d9",
   "metadata": {},
   "source": [
    "## Adjusting Model using L2 regularization"
   ]
  },
  {
   "cell_type": "code",
   "execution_count": null,
   "id": "65563f04",
   "metadata": {},
   "outputs": [],
   "source": [
    "from tensorflow.keras import regularizers"
   ]
  },
  {
   "cell_type": "code",
   "execution_count": null,
   "id": "20f34ab4",
   "metadata": {},
   "outputs": [],
   "source": [
    "## Layering, beginning with 1 hidden layer\n",
    "input_features = len(X_train[0])\n",
    "hidden_layer_1 = 25\n",
    "outputs = 1\n",
    "\n",
    "nn = tf.keras.models.Sequential(name='l2_reg')\n",
    "\n",
    "## First Hidden Layer + Input\n",
    "nn.add(tf.keras.layers.Dense(units = hidden_layer_1, input_dim = input_features, activation = 'relu',\n",
    "                            kernel_regularizer=regularizers.l2(0.001)))\n",
    "\n",
    "##Output Layer\n",
    "nn.add(tf.keras.layers.Dense(units = outputs, activation='sigmoid'))\n",
    "\n",
    "nn.summary()"
   ]
  },
  {
   "cell_type": "code",
   "execution_count": null,
   "id": "42d5e9bb",
   "metadata": {},
   "outputs": [],
   "source": [
    "nn.compile(loss='binary_crossentropy', optimizer='adam', metrics=['accuracy',])\n",
    "l1_reg = nn.fit(X_train_scaled, y_train, validation_data = (X_test_scaled, y_test) , epochs=100)"
   ]
  },
  {
   "cell_type": "code",
   "execution_count": null,
   "id": "8d61fc5a",
   "metadata": {},
   "outputs": [],
   "source": [
    "plt.plot(l1_reg.history['accuracy'])\n",
    "plt.plot(l1_reg.history['val_accuracy'])\n",
    "plt.title(\"L2 Model Accuracy\")\n",
    "plt.ylabel(\"Accuracy\")\n",
    "plt.xlabel(\"Epoch\")\n",
    "plt.legend(['Training','Validation'], loc = 'center')\n",
    "plt.show()"
   ]
  },
  {
   "cell_type": "code",
   "execution_count": null,
   "id": "c72a96c8",
   "metadata": {},
   "outputs": [],
   "source": [
    "plt.plot(l1_reg.history['loss'])\n",
    "plt.plot(l1_reg.history['val_loss'])\n",
    "plt.title(\"L2 Model Loss\")\n",
    "plt.ylabel(\"Loss\")\n",
    "plt.xlabel(\"Epoch\")\n",
    "plt.legend(['Training','Validation'], loc = 'center')\n",
    "plt.show()"
   ]
  },
  {
   "cell_type": "code",
   "execution_count": null,
   "id": "5d11bead",
   "metadata": {},
   "outputs": [],
   "source": [
    "## Looks good at first, but the model still finds out a pattern early and does not adapt to new information"
   ]
  },
  {
   "cell_type": "markdown",
   "id": "7e59f2aa",
   "metadata": {},
   "source": [
    "## Adjusting model using Dropout"
   ]
  },
  {
   "cell_type": "code",
   "execution_count": null,
   "id": "90ba408d",
   "metadata": {},
   "outputs": [],
   "source": [
    "## Layering, beginning with 1 hidden layer\n",
    "input_features = len(X_train[0])\n",
    "hidden_layer_1 = 25\n",
    "outputs = 1\n",
    "\n",
    "nn = tf.keras.models.Sequential(name='dropout')\n",
    "\n",
    "## First Hidden Layer + Input\n",
    "\n",
    "nn.add(tf.keras.layers.Dense(units = hidden_layer_1, input_dim = input_features, activation = 'relu'))\n",
    "nn.add(tf.keras.layers.Dropout(.2))\n",
    "\n",
    "##Output Layer\n",
    "nn.add(tf.keras.layers.Dense(units = outputs, activation='sigmoid'))\n",
    "\n",
    "\n",
    "nn.summary()"
   ]
  },
  {
   "cell_type": "code",
   "execution_count": null,
   "id": "7caa12dc",
   "metadata": {},
   "outputs": [],
   "source": [
    "nn.compile(loss='binary_crossentropy', optimizer='adam', metrics=['accuracy',])\n",
    "dropout_model = nn.fit(X_train_scaled, y_train, validation_data = (X_test_scaled, y_test) , epochs=100)"
   ]
  },
  {
   "cell_type": "code",
   "execution_count": null,
   "id": "86514d1b",
   "metadata": {},
   "outputs": [],
   "source": [
    "plt.plot(dropout_model.history['accuracy'])\n",
    "plt.plot(dropout_model.history['val_accuracy'])\n",
    "plt.title(\"Dropout Model Accuracy\")\n",
    "plt.ylabel(\"Accuracy\")\n",
    "plt.xlabel(\"Epoch\")\n",
    "plt.legend(['Training','Validation'], loc = 'center')\n",
    "plt.show()"
   ]
  },
  {
   "cell_type": "code",
   "execution_count": null,
   "id": "321d093b",
   "metadata": {},
   "outputs": [],
   "source": [
    "plt.plot(dropout_model.history['loss'])\n",
    "plt.plot(dropout_model.history['val_loss'])\n",
    "plt.title(\"Dropout Model Loss\")\n",
    "plt.ylabel(\"Loss\")\n",
    "plt.xlabel(\"Epoch\")\n",
    "plt.legend(['Training','Validation'], loc = 'center')\n",
    "plt.show()"
   ]
  },
  {
   "cell_type": "markdown",
   "id": "7ce1c022",
   "metadata": {},
   "source": [
    "## Using both L2 and Dropout"
   ]
  },
  {
   "cell_type": "code",
   "execution_count": null,
   "id": "5bf0fd00",
   "metadata": {},
   "outputs": [],
   "source": [
    "## Layering, beginning with 1 hidden layer\n",
    "input_features = len(X_train[0])\n",
    "hidden_layer_1 = 25\n",
    "outputs = 1\n",
    "\n",
    "nn = tf.keras.models.Sequential(name='dropout_and_l2')\n",
    "\n",
    "## First Hidden Layer + Input\n",
    "nn.add(tf.keras.layers.Dense(units = hidden_layer_1, input_dim = input_features, activation = 'relu',\n",
    "                             kernel_regularizer=regularizers.l2(0.001)))\n",
    "nn.add(tf.keras.layers.Dropout(.2))\n",
    "\n",
    "\n",
    "##Output Layer\n",
    "nn.add(tf.keras.layers.Dense(units = outputs, activation='sigmoid'))\n",
    "\n",
    "\n",
    "nn.summary()"
   ]
  },
  {
   "cell_type": "code",
   "execution_count": null,
   "id": "60970669",
   "metadata": {
    "scrolled": true
   },
   "outputs": [],
   "source": [
    "nn.compile(loss='binary_crossentropy', optimizer='adam', metrics=['accuracy', \n",
    "                                                                  tf.keras.metrics.Precision(),tf.keras.metrics.Recall()])\n",
    "dropout_l2_model = nn.fit(X_train_scaled, y_train, validation_data = (X_test_scaled, y_test) , epochs=100)"
   ]
  },
  {
   "cell_type": "code",
   "execution_count": null,
   "id": "72635d99",
   "metadata": {},
   "outputs": [],
   "source": [
    "fig, axs = plt.subplots(2, 2, figsize=(10, 8))\n",
    "\n",
    "axs[0,0].plot(dropout_l2_model.history['loss'])\n",
    "axs[0,0].plot(dropout_l2_model.history['val_loss'])\n",
    "axs[0,0].set_title(\"Dropout/L2 Loss\")\n",
    "\n",
    "axs[1,0].plot(dropout_l2_model.history['accuracy'])\n",
    "axs[1,0].plot(dropout_l2_model.history['val_accuracy'])\n",
    "axs[1,0].set_title(\"Dropout/L2 Accuracy\")\n",
    "\n",
    "axs[0,1].plot(dropout_l2_model.history['recall'])\n",
    "axs[0,1].plot(dropout_l2_model.history['val_recall'])\n",
    "axs[0,1].set_title(\"Dropout/L2 Recall\")\n",
    "\n",
    "axs[1,1].plot(dropout_l2_model.history['precision'])\n",
    "axs[1,1].plot(dropout_l2_model.history['val_precision'])\n",
    "axs[1,1].set_title(\"Dropout/L2 Precision\")\n",
    "\n",
    "fig.tight_layout()"
   ]
  },
  {
   "cell_type": "code",
   "execution_count": null,
   "id": "22a38217",
   "metadata": {},
   "outputs": [],
   "source": []
  }
 ],
 "metadata": {
  "kernelspec": {
   "display_name": "Python 3 (ipykernel)",
   "language": "python",
   "name": "python3"
  },
  "language_info": {
   "codemirror_mode": {
    "name": "ipython",
    "version": 3
   },
   "file_extension": ".py",
   "mimetype": "text/x-python",
   "name": "python",
   "nbconvert_exporter": "python",
   "pygments_lexer": "ipython3",
   "version": "3.8.13"
  }
 },
 "nbformat": 4,
 "nbformat_minor": 5
}
