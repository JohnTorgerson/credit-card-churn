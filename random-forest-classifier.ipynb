{
 "cells": [
  {
   "cell_type": "markdown",
   "id": "a833277a",
   "metadata": {},
   "source": [
    "## Setup\n",
    "The mechlearn file was writen to easily compute the accuracy score and 'area under the curve' for a given model. The 'auct' function splits and scales the proved data sets, creates a model with them, generates an receiver/operater curve and returns the false positive and true posititves rates as well the area under the curve. The 'acct' fuinction splits and scales the proved data sets, creates a model with them and scores the accuracy of the model on the testing set."
   ]
  },
  {
   "cell_type": "code",
   "execution_count": null,
   "id": "77f77e4d",
   "metadata": {},
   "outputs": [],
   "source": [
    "# import dependencies\n",
    "import pandas as pd\n",
    "from mechlearn import split_and_scale as ss\n",
    "from mechlearn import auc_test as auct\n",
    "from mechlearn import acc_test as acct"
   ]
  },
  {
   "cell_type": "markdown",
   "id": "47a1ba86",
   "metadata": {},
   "source": [
    "The 'Resources/X.csv' and 'Resources/y.csv' files were generated in the etl_workflow.ipynb and hold the cleaned data and target values for the entire dataset."
   ]
  },
  {
   "cell_type": "code",
   "execution_count": null,
   "id": "11440eb4",
   "metadata": {},
   "outputs": [],
   "source": [
    "# load data (X) and target (y) into dataframes\n",
    "X = pd.read_csv('Resources/X.csv')\n",
    "y = pd.read_csv('Resources/y.csv')"
   ]
  },
  {
   "cell_type": "markdown",
   "id": "12658b13",
   "metadata": {},
   "source": [
    "## Test Model\n"
   ]
  },
  {
   "cell_type": "code",
   "execution_count": null,
   "id": "c1954d10",
   "metadata": {},
   "outputs": [],
   "source": [
    "\n",
    "print(f'Area under curve: {auct(X, y, model=\"rfc\")}')\n",
    "print(acct(X, y, model='rfc'))"
   ]
  }
 ],
 "metadata": {
  "kernelspec": {
   "display_name": "Python 3 (ipykernel)",
   "language": "python",
   "name": "python3"
  },
  "language_info": {
   "codemirror_mode": {
    "name": "ipython",
    "version": 3
   },
   "file_extension": ".py",
   "mimetype": "text/x-python",
   "name": "python",
   "nbconvert_exporter": "python",
   "pygments_lexer": "ipython3",
   "version": "3.8.13"
  }
 },
 "nbformat": 4,
 "nbformat_minor": 5
}
