{
 "cells": [
  {
   "cell_type": "code",
   "execution_count": null,
   "id": "77f77e4d",
   "metadata": {},
   "outputs": [],
   "source": [
    "import pandas as pd\n",
    "from sklearn.ensemble import RandomForestClassifier as RFC\n",
    "from mechlearn import test_model as tm"
   ]
  },
  {
   "cell_type": "code",
   "execution_count": null,
   "id": "4ab66453",
   "metadata": {},
   "outputs": [],
   "source": [
    "X = pd.read_csv('Resources/X.csv')\n",
    "y = pd.read_csv('Resources/y.csv')\n",
    "print(tm(X, y, model='log'))\n",
    "print(tm(X, y, model='rfc'))\n",
    "print(tm(X, y, model='knn', n_neighbors=5))\n",
    "print(tm(X, y, model='svc', probability=True))"
   ]
  },
  {
   "cell_type": "code",
   "execution_count": null,
   "id": "bc7dd68f",
   "metadata": {},
   "outputs": [],
   "source": []
  }
 ],
 "metadata": {
  "kernelspec": {
   "display_name": "Python 3 (ipykernel)",
   "language": "python",
   "name": "python3"
  },
  "language_info": {
   "codemirror_mode": {
    "name": "ipython",
    "version": 3
   },
   "file_extension": ".py",
   "mimetype": "text/x-python",
   "name": "python",
   "nbconvert_exporter": "python",
   "pygments_lexer": "ipython3",
   "version": "3.8.13"
  }
 },
 "nbformat": 4,
 "nbformat_minor": 5
}
