{
 "cells": [
  {
   "cell_type": "markdown",
   "metadata": {},
   "source": [
    "## Datasets Version\n",
    "<table>\n",
    "    <thead>\n",
    "        <tr>\n",
    "            <th>Dataset</th>\n",
    "            <th>Target</th>\n",
    "            <th>Description</th>\n",
    "            <th>Use</th>\n",
    "        <tr>\n",
    "    </thead>\n",
    "    <tbody>\n",
    "        <tr>\n",
    "            <td>X</td>\n",
    "            <td>y</td>\n",
    "            <td>Full dataset minus id, terget and 'Naive Bayes' columns and 1-hot encoded</td>\n",
    "            <td>Used for analysis in all models</td>\n",
    "        </tr>\n",
    "        <tr>\n",
    "            <td>Xa2</td>\n",
    "            <td>y</td>\n",
    "            <td>Same as 'X' but 'Uknown' values are replaced with features mode</td>\n",
    "            <td>Used for analysis in all models</td>\n",
    "        </tr>\n",
    "    </tbody>\n",
    "</table>"
   ]
  },
  {
   "cell_type": "markdown",
   "metadata": {},
   "source": [
    "## Gather dependencies"
   ]
  },
  {
   "cell_type": "code",
   "execution_count": null,
   "metadata": {},
   "outputs": [],
   "source": [
    "# Import Dependencies\n",
    "import pandas as pd"
   ]
  },
  {
   "cell_type": "markdown",
   "metadata": {},
   "source": [
    "## Extract Data"
   ]
  },
  {
   "cell_type": "code",
   "execution_count": null,
   "metadata": {},
   "outputs": [],
   "source": [
    "# Read csv files\n",
    "df = pd.read_csv(\"Resources/BankChurners.csv\", low_memory=False)\n",
    "df.head()"
   ]
  },
  {
   "cell_type": "markdown",
   "metadata": {},
   "source": [
    "## Remove Unwnated Colums\n",
    "'CLIENTNUM' is a unique key assigned to each customer and is not expected to contribute any meaningfull information. 'Attrition_Flag' is the target value and should not be left for the model to train on. Both 'Naive_Bayes_Classifiers' included in the data set are from earlier analysis and should not be included in training new models."
   ]
  },
  {
   "cell_type": "code",
   "execution_count": null,
   "metadata": {},
   "outputs": [],
   "source": [
    "dfr=df.iloc[:,2:21]"
   ]
  },
  {
   "cell_type": "markdown",
   "metadata": {},
   "source": [
    "## Encode Categorical Features"
   ]
  },
  {
   "cell_type": "code",
   "execution_count": null,
   "metadata": {},
   "outputs": [],
   "source": [
    "pd.DataFrame({'column': column, 'dtype': dfr[column].dtype, 'num_unique': len(dfr[column].unique())} for column in dfr.columns)"
   ]
  },
  {
   "cell_type": "code",
   "execution_count": null,
   "metadata": {},
   "outputs": [],
   "source": [
    "dfr = pd.get_dummies(dfr)"
   ]
  },
  {
   "cell_type": "code",
   "execution_count": null,
   "metadata": {},
   "outputs": [],
   "source": [
    "X = dfr\n",
    "y = pd.get_dummies(df[\"Attrition_Flag\"]).iloc[:,1]"
   ]
  },
  {
   "cell_type": "markdown",
   "metadata": {},
   "source": [
    "## Save Clean Data to CSV"
   ]
  },
  {
   "cell_type": "code",
   "execution_count": null,
   "metadata": {},
   "outputs": [],
   "source": [
    "y.to_csv('Resources/y.csv', index=False)"
   ]
  },
  {
   "cell_type": "code",
   "execution_count": null,
   "metadata": {},
   "outputs": [],
   "source": [
    "X.to_csv(\"Resources/X.csv\", index=False)"
   ]
  },
  {
   "cell_type": "code",
   "execution_count": null,
   "metadata": {},
   "outputs": [],
   "source": [
    "unkown_features = ['Education_Level', 'Marital_Status', 'Income_Category']\n",
    "count_tot = len(X)\n",
    "print('% of Feature Unknown\\n-------------------')\n",
    "for feature in unkown_features:\n",
    "    count_unk = len(X.loc[X[feature+'_Unknown']==1,:])\n",
    "    print(f'{feature}: {round(count_unk/count_tot*100,2)}%')"
   ]
  },
  {
   "cell_type": "markdown",
   "metadata": {},
   "source": [
    "a1: Drop all 'Unknown's"
   ]
  },
  {
   "cell_type": "code",
   "execution_count": null,
   "metadata": {},
   "outputs": [],
   "source": [
    "dfa1=df\n",
    "[dfa1[feature]!='Unknown' for feature in unkown_features]"
   ]
  },
  {
   "cell_type": "markdown",
   "metadata": {},
   "source": [
    "a2: Use most common value in feature for replacement to 'Unknown' values"
   ]
  },
  {
   "cell_type": "code",
   "execution_count": null,
   "metadata": {},
   "outputs": [],
   "source": [
    "print(f'Most common value for each\\nfeatures with unknown values\\n------------------------------')\n",
    "dfa2=df\n",
    "for feature in unkown_features:\n",
    "    mode = df[feature].mode().values[0]\n",
    "    dfa2[feature] = dfa2[feature].apply(lambda x: mode if x=='Unknown' else x)\n",
    "    print(f'{feature}: {mode}')\n",
    "dfa2=dfa2.iloc[:,2:21]\n",
    "dfa2=pd.get_dummies(dfa2)"
   ]
  },
  {
   "cell_type": "code",
   "execution_count": null,
   "metadata": {},
   "outputs": [],
   "source": [
    "dfa2.to_csv('Resources/Xa2.csv')"
   ]
  },
  {
   "cell_type": "code",
   "execution_count": null,
   "metadata": {},
   "outputs": [],
   "source": [
    "from sklearn.preprocessing import StandardScaler as SS\n",
    "from sklearn.cluster import KMeans as KM\n",
    "from matplotlib import pyplot as plt\n",
    "\n",
    "N = 40\n",
    "Xs = SS().fit_transform(X)\n",
    "inertia = [KM(n_clusters=i).fit(Xs).inertia_ for i in range(1, N)]\n",
    "plt.plot(list(range(1, N)), inertia)"
   ]
  },
  {
   "cell_type": "markdown",
   "metadata": {},
   "source": [
    "## Explore Features"
   ]
  },
  {
   "cell_type": "code",
   "execution_count": null,
   "metadata": {},
   "outputs": [],
   "source": [
    "from mechlearn import get_data_dict\n",
    "get_data_dict()"
   ]
  },
  {
   "cell_type": "code",
   "execution_count": null,
   "metadata": {},
   "outputs": [],
   "source": []
  }
 ],
 "metadata": {
  "kernelspec": {
   "display_name": "Python 3 (ipykernel)",
   "language": "python",
   "name": "python3"
  },
  "language_info": {
   "codemirror_mode": {
    "name": "ipython",
    "version": 3
   },
   "file_extension": ".py",
   "mimetype": "text/x-python",
   "name": "python",
   "nbconvert_exporter": "python",
   "pygments_lexer": "ipython3",
   "version": "3.8.13"
  },
  "vscode": {
   "interpreter": {
    "hash": "d194a54f50f837936af2d7dcf32d4aa772a8724148b89f2563b16fc1480c324a"
   }
  }
 },
 "nbformat": 4,
 "nbformat_minor": 2
}
